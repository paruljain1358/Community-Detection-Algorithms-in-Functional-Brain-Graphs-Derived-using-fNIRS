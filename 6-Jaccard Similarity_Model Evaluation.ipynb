{
 "cells": [
  {
   "cell_type": "code",
   "execution_count": 1,
   "id": "56485a07",
   "metadata": {},
   "outputs": [],
   "source": [
    "import pandas as pd\n",
    "from sklearn.metrics import normalized_mutual_info_score\n",
    "import numpy as np\n",
    "import re\n",
    "from sklearn.metrics import confusion_matrix\n",
    "from scipy.optimize import linear_sum_assignment\n",
    "from sklearn.metrics import jaccard_score"
   ]
  },
  {
   "cell_type": "code",
   "execution_count": 3,
   "id": "88c5cde4",
   "metadata": {},
   "outputs": [],
   "source": [
    "# For HbT and using this data from another study to compare the findings\n",
    "\n",
    "data = {\n",
    "    \"Sensorimotor (12)\": [9, 10.0, 12.0, 14.0, 18.0, 19.0, 20.0, 22.0, 23.0, 24.0, 25.0, 29.0, 41.0, 42.0, 43.0, 52.0, 54.0],\n",
    "    \"Auditory (31)\": [13, 14.0, 15.0, 16.0, 21.0, 23.0, 24.0, 25.0, 26.0, 27.0, 28.0, 29.0, 31.0, 59.0, 60.0, 62.0, 63.0],\n",
    "    \"FPC (19)\": [4, 5.0, 6.0, 7.0, 8.0, 9.0, 10.0, 11.0, 17.0, 19.0, 20.0, 21.0, 23.0, 24.0, 27.0, 28.0, 36.0, 37.0, 38.0, 39.0, 40.0, 41.0, 42.0, 49.0, 50.0, 51.0],\n",
    "    \"DMN (6)\": [4, 6.0, 7.0, 8.0, 9.0, 10.0, 12.0, 17.0, 18.0, 19.0, 20.0, 36.0, 37.0, 38.0, 39.0, 40.0, 41.0, 42.0, 49.0, 50.0, 51.0, 53.0],\n",
    "    \"Visual (4)\": [0, 1.0, 2.0, 10.0, 13.0, 15.0, 16.0, 32.0, 33.0, 34.0, 35.0, 45.0, 47.0, 48.0, 63.0],\n",
    "}"
   ]
  },
  {
   "cell_type": "code",
   "execution_count": 4,
   "id": "2d4b5dee",
   "metadata": {},
   "outputs": [],
   "source": [
    "# Mapping of networks to integers\n",
    "network_mapping = {\n",
    "    \"Sensorimotor (12)\": 0,\n",
    "    \"Auditory (31)\": 1,\n",
    "    \"FPC (19)\": 2,\n",
    "    \"DMN (6)\": 3,\n",
    "    \"Visual (4)\": 4\n",
    "}"
   ]
  },
  {
   "cell_type": "code",
   "execution_count": 5,
   "id": "7d280479",
   "metadata": {},
   "outputs": [],
   "source": [
    "# Create a list of node-community-network tuples\n",
    "node_community_pairs = []\n",
    "\n",
    "for network, nodes in data.items():\n",
    "    # Remove numbers in brackets from the network name\n",
    "    clean_network_name = re.sub(r\"\\s*\\(.*?\\)\", \"\", network)\n",
    "    community_id = network_mapping[network]\n",
    "    for node in nodes:\n",
    "        node_community_pairs.append((node, community_id, clean_network_name))"
   ]
  },
  {
   "cell_type": "code",
   "execution_count": 6,
   "id": "ff7fc559",
   "metadata": {},
   "outputs": [],
   "source": [
    "# Convert to dataframe\n",
    "df = pd.DataFrame(node_community_pairs, columns=[\"node\", \"community_id\", \"network_name\"])"
   ]
  },
  {
   "cell_type": "code",
   "execution_count": 7,
   "id": "3e418684",
   "metadata": {},
   "outputs": [
    {
     "data": {
      "text/html": [
       "<div>\n",
       "<style scoped>\n",
       "    .dataframe tbody tr th:only-of-type {\n",
       "        vertical-align: middle;\n",
       "    }\n",
       "\n",
       "    .dataframe tbody tr th {\n",
       "        vertical-align: top;\n",
       "    }\n",
       "\n",
       "    .dataframe thead th {\n",
       "        text-align: right;\n",
       "    }\n",
       "</style>\n",
       "<table border=\"1\" class=\"dataframe\">\n",
       "  <thead>\n",
       "    <tr style=\"text-align: right;\">\n",
       "      <th></th>\n",
       "      <th>node</th>\n",
       "      <th>community_id</th>\n",
       "      <th>network_name</th>\n",
       "    </tr>\n",
       "  </thead>\n",
       "  <tbody>\n",
       "    <tr>\n",
       "      <th>0</th>\n",
       "      <td>9.0</td>\n",
       "      <td>0</td>\n",
       "      <td>Sensorimotor</td>\n",
       "    </tr>\n",
       "    <tr>\n",
       "      <th>1</th>\n",
       "      <td>10.0</td>\n",
       "      <td>0</td>\n",
       "      <td>Sensorimotor</td>\n",
       "    </tr>\n",
       "    <tr>\n",
       "      <th>2</th>\n",
       "      <td>12.0</td>\n",
       "      <td>0</td>\n",
       "      <td>Sensorimotor</td>\n",
       "    </tr>\n",
       "    <tr>\n",
       "      <th>3</th>\n",
       "      <td>14.0</td>\n",
       "      <td>0</td>\n",
       "      <td>Sensorimotor</td>\n",
       "    </tr>\n",
       "    <tr>\n",
       "      <th>4</th>\n",
       "      <td>18.0</td>\n",
       "      <td>0</td>\n",
       "      <td>Sensorimotor</td>\n",
       "    </tr>\n",
       "    <tr>\n",
       "      <th>...</th>\n",
       "      <td>...</td>\n",
       "      <td>...</td>\n",
       "      <td>...</td>\n",
       "    </tr>\n",
       "    <tr>\n",
       "      <th>92</th>\n",
       "      <td>35.0</td>\n",
       "      <td>4</td>\n",
       "      <td>Visual</td>\n",
       "    </tr>\n",
       "    <tr>\n",
       "      <th>93</th>\n",
       "      <td>45.0</td>\n",
       "      <td>4</td>\n",
       "      <td>Visual</td>\n",
       "    </tr>\n",
       "    <tr>\n",
       "      <th>94</th>\n",
       "      <td>47.0</td>\n",
       "      <td>4</td>\n",
       "      <td>Visual</td>\n",
       "    </tr>\n",
       "    <tr>\n",
       "      <th>95</th>\n",
       "      <td>48.0</td>\n",
       "      <td>4</td>\n",
       "      <td>Visual</td>\n",
       "    </tr>\n",
       "    <tr>\n",
       "      <th>96</th>\n",
       "      <td>63.0</td>\n",
       "      <td>4</td>\n",
       "      <td>Visual</td>\n",
       "    </tr>\n",
       "  </tbody>\n",
       "</table>\n",
       "<p>97 rows × 3 columns</p>\n",
       "</div>"
      ],
      "text/plain": [
       "    node  community_id  network_name\n",
       "0    9.0             0  Sensorimotor\n",
       "1   10.0             0  Sensorimotor\n",
       "2   12.0             0  Sensorimotor\n",
       "3   14.0             0  Sensorimotor\n",
       "4   18.0             0  Sensorimotor\n",
       "..   ...           ...           ...\n",
       "92  35.0             4        Visual\n",
       "93  45.0             4        Visual\n",
       "94  47.0             4        Visual\n",
       "95  48.0             4        Visual\n",
       "96  63.0             4        Visual\n",
       "\n",
       "[97 rows x 3 columns]"
      ]
     },
     "execution_count": 7,
     "metadata": {},
     "output_type": "execute_result"
    }
   ],
   "source": [
    "df"
   ]
  },
  {
   "cell_type": "code",
   "execution_count": 8,
   "id": "5dcf1f65",
   "metadata": {},
   "outputs": [],
   "source": [
    "df['node']=df['node'].astype(int)"
   ]
  },
  {
   "cell_type": "code",
   "execution_count": 11,
   "id": "f37c723f",
   "metadata": {},
   "outputs": [],
   "source": [
    "df.to_csv('HbT_rsNetworks.csv',index=False)"
   ]
  },
  {
   "cell_type": "code",
   "execution_count": 16,
   "id": "d29e0034",
   "metadata": {},
   "outputs": [],
   "source": [
    "# Drop duplicate rows based solely on the 'node' column\n",
    "df_unique = df.drop_duplicates(subset=['node'], keep='first')"
   ]
  },
  {
   "cell_type": "code",
   "execution_count": 18,
   "id": "1bb61eb6",
   "metadata": {},
   "outputs": [],
   "source": [
    "df_unique.reset_index(drop=True, inplace=True)"
   ]
  },
  {
   "cell_type": "code",
   "execution_count": 19,
   "id": "ba7f7974",
   "metadata": {},
   "outputs": [],
   "source": [
    "df_unique.to_csv('RSN_df_ground_truth.csv')"
   ]
  },
  {
   "cell_type": "code",
   "execution_count": 12,
   "id": "0d31c96c",
   "metadata": {},
   "outputs": [
    {
     "data": {
      "text/html": [
       "<div>\n",
       "<style scoped>\n",
       "    .dataframe tbody tr th:only-of-type {\n",
       "        vertical-align: middle;\n",
       "    }\n",
       "\n",
       "    .dataframe tbody tr th {\n",
       "        vertical-align: top;\n",
       "    }\n",
       "\n",
       "    .dataframe thead th {\n",
       "        text-align: right;\n",
       "    }\n",
       "</style>\n",
       "<table border=\"1\" class=\"dataframe\">\n",
       "  <thead>\n",
       "    <tr style=\"text-align: right;\">\n",
       "      <th></th>\n",
       "      <th>node</th>\n",
       "      <th>community_id</th>\n",
       "      <th>network_name</th>\n",
       "    </tr>\n",
       "  </thead>\n",
       "  <tbody>\n",
       "    <tr>\n",
       "      <th>0</th>\n",
       "      <td>9</td>\n",
       "      <td>0</td>\n",
       "      <td>Sensorimotor</td>\n",
       "    </tr>\n",
       "    <tr>\n",
       "      <th>1</th>\n",
       "      <td>10</td>\n",
       "      <td>0</td>\n",
       "      <td>Sensorimotor</td>\n",
       "    </tr>\n",
       "    <tr>\n",
       "      <th>2</th>\n",
       "      <td>12</td>\n",
       "      <td>0</td>\n",
       "      <td>Sensorimotor</td>\n",
       "    </tr>\n",
       "    <tr>\n",
       "      <th>3</th>\n",
       "      <td>14</td>\n",
       "      <td>0</td>\n",
       "      <td>Sensorimotor</td>\n",
       "    </tr>\n",
       "    <tr>\n",
       "      <th>4</th>\n",
       "      <td>18</td>\n",
       "      <td>0</td>\n",
       "      <td>Sensorimotor</td>\n",
       "    </tr>\n",
       "    <tr>\n",
       "      <th>...</th>\n",
       "      <td>...</td>\n",
       "      <td>...</td>\n",
       "      <td>...</td>\n",
       "    </tr>\n",
       "    <tr>\n",
       "      <th>92</th>\n",
       "      <td>35</td>\n",
       "      <td>4</td>\n",
       "      <td>Visual</td>\n",
       "    </tr>\n",
       "    <tr>\n",
       "      <th>93</th>\n",
       "      <td>45</td>\n",
       "      <td>4</td>\n",
       "      <td>Visual</td>\n",
       "    </tr>\n",
       "    <tr>\n",
       "      <th>94</th>\n",
       "      <td>47</td>\n",
       "      <td>4</td>\n",
       "      <td>Visual</td>\n",
       "    </tr>\n",
       "    <tr>\n",
       "      <th>95</th>\n",
       "      <td>48</td>\n",
       "      <td>4</td>\n",
       "      <td>Visual</td>\n",
       "    </tr>\n",
       "    <tr>\n",
       "      <th>96</th>\n",
       "      <td>63</td>\n",
       "      <td>4</td>\n",
       "      <td>Visual</td>\n",
       "    </tr>\n",
       "  </tbody>\n",
       "</table>\n",
       "<p>97 rows × 3 columns</p>\n",
       "</div>"
      ],
      "text/plain": [
       "    node  community_id  network_name\n",
       "0      9             0  Sensorimotor\n",
       "1     10             0  Sensorimotor\n",
       "2     12             0  Sensorimotor\n",
       "3     14             0  Sensorimotor\n",
       "4     18             0  Sensorimotor\n",
       "..   ...           ...           ...\n",
       "92    35             4        Visual\n",
       "93    45             4        Visual\n",
       "94    47             4        Visual\n",
       "95    48             4        Visual\n",
       "96    63             4        Visual\n",
       "\n",
       "[97 rows x 3 columns]"
      ]
     },
     "execution_count": 12,
     "metadata": {},
     "output_type": "execute_result"
    }
   ],
   "source": [
    "# Load the ground truth CSV file\n",
    "ground_truth_df = pd.read_csv('HbT_rsNetworks.csv')\n",
    "\n",
    "ground_truth_df"
   ]
  },
  {
   "cell_type": "code",
   "execution_count": 10,
   "id": "0a4d9e29",
   "metadata": {},
   "outputs": [],
   "source": [
    "# Function to create a dictionary of community_id -> set of nodes\n",
    "def create_community_dict(df, community_col='community_id', node_col='node'):\n",
    "    community_dict = {}\n",
    "    for community_id, group in df.groupby(community_col):\n",
    "        community_dict[community_id] = set(group[node_col])\n",
    "    return community_dict\n",
    "\n",
    "# Creating a dictionary for resting state networks\n",
    "resting_state_dict = create_community_dict(ground_truth_df)"
   ]
  },
  {
   "cell_type": "code",
   "execution_count": 11,
   "id": "ade14dfa",
   "metadata": {},
   "outputs": [
    {
     "name": "stdout",
     "output_type": "stream",
     "text": [
      "   contrast_id  community_id  node       label_name       lobe hemisphere\n",
      "0            3             0     0         Cuneus_L  Occipital          L\n",
      "1            3             0    32         Cuneus_R  Occipital          R\n",
      "2            3             0    33  Occipital_Sup_R  Occipital          R\n",
      "3            3             0    34         Cuneus_L  Occipital          L\n",
      "4            3             0    35         Cuneus_R  Occipital          R\n",
      "   contrast_id  community_id  node          label_name      lobe hemisphere\n",
      "0            3             0    31      Temporal_Mid_L  Temporal          L\n",
      "1            3             0    61           Angular_R  Parietal          R\n",
      "2            3             0    56     SupraMarginal_R  Parietal          R\n",
      "3            3             0    54       Postcentral_R  Parietal          R\n",
      "4            3             0    52  Frontal_Inf_Oper_R   Frontal          R\n",
      "   contrast_id  community_id  node       label_name       lobe hemisphere\n",
      "0            3             0    43     Precentral_R    Frontal          R\n",
      "1            3             0    46  Occipital_Mid_R  Occipital          R\n",
      "2            3             0    45  Occipital_Mid_R  Occipital          R\n",
      "3            3             0    44    Frontal_Mid_R    Frontal          R\n",
      "4            3             0    33  Occipital_Sup_R  Occipital          R\n"
     ]
    }
   ],
   "source": [
    "girvan_newman_df = pd.read_csv('communities_girvan_newman/contrast_3_final_communities.csv')\n",
    "louvain_df = pd.read_csv('communities_louvain/contrast_3_final_communities.csv')\n",
    "isomap_df = pd.read_csv('communities_isomap/contrast_3_final_communities.csv')\n",
    "\n",
    "# Display the data to check the format\n",
    "print(girvan_newman_df.head())\n",
    "print(louvain_df.head())\n",
    "print(isomap_df.head())"
   ]
  },
  {
   "cell_type": "code",
   "execution_count": 12,
   "id": "93aae2c9",
   "metadata": {},
   "outputs": [],
   "source": [
    "community_gn_dict= create_community_dict(girvan_newman_df)\n",
    "community_ln_dict= create_community_dict(louvain_df)\n",
    "community_iso_dict= create_community_dict(isomap_df)"
   ]
  },
  {
   "cell_type": "code",
   "execution_count": 13,
   "id": "94c8777b",
   "metadata": {},
   "outputs": [],
   "source": [
    "# Jaccard similarity calculation function\n",
    "def jaccard_similarity(set1, set2):\n",
    "    intersection = len(set1 & set2)\n",
    "    union = len(set1 | set2)\n",
    "    return intersection / union if union != 0 else 0\n",
    "\n",
    "# Compare communities with resting state networks\n",
    "def compare_communities_with_networks(community_dict, resting_state_dict):\n",
    "    results = []\n",
    "    for comm_id, comm_nodes in community_dict.items():\n",
    "        for rs_id, rs_nodes in resting_state_dict.items():\n",
    "            similarity = jaccard_similarity(comm_nodes, rs_nodes)\n",
    "            results.append((comm_id, rs_id, similarity))\n",
    "    return results\n",
    "\n",
    "results_gn = compare_communities_with_networks(community_gn_dict, resting_state_dict)\n",
    "results_ln = compare_communities_with_networks(community_ln_dict, resting_state_dict)\n",
    "results_iso = compare_communities_with_networks(community_iso_dict, resting_state_dict)"
   ]
  },
  {
   "cell_type": "code",
   "execution_count": 14,
   "id": "a49554a5",
   "metadata": {},
   "outputs": [],
   "source": [
    "# Convert results to a DataFrame for easy viewing\n",
    "df_results_gn = pd.DataFrame(results_gn, columns=['community_id', 'rs_network_id', 'jaccard_similarity'])\n",
    "df_results_ln = pd.DataFrame(results_ln, columns=['community_id', 'rs_network_id', 'jaccard_similarity'])\n",
    "df_results_iso = pd.DataFrame(results_iso, columns=['community_id', 'rs_network_id', 'jaccard_similarity'])"
   ]
  },
  {
   "cell_type": "code",
   "execution_count": 15,
   "id": "34864586",
   "metadata": {},
   "outputs": [],
   "source": [
    "# Sorting results by similarity\n",
    "df_results_gn.sort_values(by='jaccard_similarity', ascending=False, inplace=True)\n",
    "df_results_ln.sort_values(by='jaccard_similarity', ascending=False, inplace=True)\n",
    "df_results_iso.sort_values(by='jaccard_similarity', ascending=False, inplace=True)"
   ]
  },
  {
   "cell_type": "code",
   "execution_count": 16,
   "id": "e0af8b15",
   "metadata": {},
   "outputs": [],
   "source": [
    "# Retain only the best match for each community_id\n",
    "best_matches_gn = df_results_gn.groupby('community_id').first().reset_index()\n",
    "best_matches_ln = df_results_ln.groupby('community_id').first().reset_index()\n",
    "best_matches_iso = df_results_iso.groupby('community_id').first().reset_index()"
   ]
  },
  {
   "cell_type": "code",
   "execution_count": 17,
   "id": "207cc463",
   "metadata": {},
   "outputs": [],
   "source": [
    "rs_network_dict = ground_truth_df.set_index('community_id')['network_name'].to_dict()"
   ]
  },
  {
   "cell_type": "code",
   "execution_count": 18,
   "id": "1708f848",
   "metadata": {},
   "outputs": [
    {
     "data": {
      "text/plain": [
       "{0: 'Sensorimotor', 1: 'Auditory', 2: 'FPC', 3: 'DMN', 4: 'Visual'}"
      ]
     },
     "execution_count": 18,
     "metadata": {},
     "output_type": "execute_result"
    }
   ],
   "source": [
    "rs_network_dict"
   ]
  },
  {
   "cell_type": "code",
   "execution_count": 19,
   "id": "116c8e48",
   "metadata": {},
   "outputs": [],
   "source": [
    "# Map the network names to the best matches DataFrames\n",
    "best_matches_gn['network_name'] = best_matches_gn['rs_network_id'].map(rs_network_dict)\n",
    "best_matches_ln['network_name'] = best_matches_ln['rs_network_id'].map(rs_network_dict)\n",
    "best_matches_iso['network_name'] = best_matches_iso['rs_network_id'].map(rs_network_dict)"
   ]
  },
  {
   "cell_type": "code",
   "execution_count": 24,
   "id": "baa30be0",
   "metadata": {},
   "outputs": [
    {
     "name": "stdout",
     "output_type": "stream",
     "text": [
      "   community_id  rs_network_id  jaccard_similarity  network_name\n",
      "0             0              4            0.687500        Visual\n",
      "1             1              1            0.350000      Auditory\n",
      "2             2              0            0.304348  Sensorimotor\n",
      "3             3              0            0.363636  Sensorimotor\n",
      "4             4              3            0.652174           DMN\n",
      "   community_id  rs_network_id  jaccard_similarity  network_name\n",
      "0             0              0            0.461538  Sensorimotor\n",
      "1             1              3            0.478261           DMN\n",
      "2             2              1            0.363636      Auditory\n",
      "3             3              3            0.217391           DMN\n",
      "4             4              4            0.687500        Visual\n",
      "   community_id  rs_network_id  jaccard_similarity  network_name\n",
      "0             0              3            0.233333           DMN\n",
      "1             1              1            0.133333      Auditory\n",
      "2             2              0            0.260870  Sensorimotor\n",
      "3             3              2            0.233333           FPC\n",
      "4             4              1            0.444444      Auditory\n"
     ]
    }
   ],
   "source": [
    "print(best_matches_gn)\n",
    "print(best_matches_ln)\n",
    "print(best_matches_iso)"
   ]
  },
  {
   "cell_type": "code",
   "execution_count": 32,
   "id": "9ac804e1",
   "metadata": {},
   "outputs": [],
   "source": [
    "name_mapping_dict_gn= best_matches_gn.set_index('community_id')['network_name'].to_dict()\n",
    "name_mapping_dict_ln= best_matches_ln.set_index('community_id')['network_name'].to_dict()\n",
    "name_mapping_dict_iso= best_matches_iso.set_index('community_id')['network_name'].to_dict()"
   ]
  },
  {
   "cell_type": "code",
   "execution_count": 21,
   "id": "4e6cbc1c",
   "metadata": {},
   "outputs": [
    {
     "data": {
      "text/plain": [
       "{0: 'Visual', 1: 'Auditory', 2: 'Sensorimotor', 3: 'Sensorimotor', 4: 'DMN'}"
      ]
     },
     "execution_count": 21,
     "metadata": {},
     "output_type": "execute_result"
    }
   ],
   "source": [
    "name_mapping_dict_gn"
   ]
  },
  {
   "cell_type": "code",
   "execution_count": 22,
   "id": "fbb515ce",
   "metadata": {},
   "outputs": [
    {
     "data": {
      "text/plain": [
       "{0: 'Sensorimotor', 1: 'DMN', 2: 'Auditory', 3: 'DMN', 4: 'Visual'}"
      ]
     },
     "execution_count": 22,
     "metadata": {},
     "output_type": "execute_result"
    }
   ],
   "source": [
    "name_mapping_dict_ln"
   ]
  },
  {
   "cell_type": "code",
   "execution_count": 33,
   "id": "a52ac986",
   "metadata": {},
   "outputs": [],
   "source": [
    "girvan_newman_df['network_name']= girvan_newman_df['community_id'].map(name_mapping_dict_gn)\n",
    "louvain_df['network_name']= louvain_df['community_id'].map(name_mapping_dict_ln)\n",
    "isomap_df['network_name']= isomap_df['community_id'].map(name_mapping_dict_iso)"
   ]
  },
  {
   "cell_type": "code",
   "execution_count": 27,
   "id": "b67b96c7",
   "metadata": {},
   "outputs": [],
   "source": [
    "# First merge with Girvan-Newman\n",
    "merged_df = girvan_newman_df.merge(louvain_df[['node', 'network_name']], on='node', suffixes=('_gn', '_ln'))"
   ]
  },
  {
   "cell_type": "code",
   "execution_count": 28,
   "id": "9fa7510f",
   "metadata": {},
   "outputs": [
    {
     "data": {
      "text/html": [
       "<div>\n",
       "<style scoped>\n",
       "    .dataframe tbody tr th:only-of-type {\n",
       "        vertical-align: middle;\n",
       "    }\n",
       "\n",
       "    .dataframe tbody tr th {\n",
       "        vertical-align: top;\n",
       "    }\n",
       "\n",
       "    .dataframe thead th {\n",
       "        text-align: right;\n",
       "    }\n",
       "</style>\n",
       "<table border=\"1\" class=\"dataframe\">\n",
       "  <thead>\n",
       "    <tr style=\"text-align: right;\">\n",
       "      <th></th>\n",
       "      <th>contrast_id</th>\n",
       "      <th>community_id</th>\n",
       "      <th>node</th>\n",
       "      <th>label_name</th>\n",
       "      <th>lobe</th>\n",
       "      <th>hemisphere</th>\n",
       "      <th>network_name_gn</th>\n",
       "      <th>network_name_ln</th>\n",
       "    </tr>\n",
       "  </thead>\n",
       "  <tbody>\n",
       "    <tr>\n",
       "      <th>0</th>\n",
       "      <td>3</td>\n",
       "      <td>0</td>\n",
       "      <td>0</td>\n",
       "      <td>Cuneus_L</td>\n",
       "      <td>Occipital</td>\n",
       "      <td>L</td>\n",
       "      <td>Visual</td>\n",
       "      <td>Visual</td>\n",
       "    </tr>\n",
       "    <tr>\n",
       "      <th>1</th>\n",
       "      <td>3</td>\n",
       "      <td>0</td>\n",
       "      <td>32</td>\n",
       "      <td>Cuneus_R</td>\n",
       "      <td>Occipital</td>\n",
       "      <td>R</td>\n",
       "      <td>Visual</td>\n",
       "      <td>Visual</td>\n",
       "    </tr>\n",
       "    <tr>\n",
       "      <th>2</th>\n",
       "      <td>3</td>\n",
       "      <td>0</td>\n",
       "      <td>33</td>\n",
       "      <td>Occipital_Sup_R</td>\n",
       "      <td>Occipital</td>\n",
       "      <td>R</td>\n",
       "      <td>Visual</td>\n",
       "      <td>Visual</td>\n",
       "    </tr>\n",
       "    <tr>\n",
       "      <th>3</th>\n",
       "      <td>3</td>\n",
       "      <td>0</td>\n",
       "      <td>34</td>\n",
       "      <td>Cuneus_L</td>\n",
       "      <td>Occipital</td>\n",
       "      <td>L</td>\n",
       "      <td>Visual</td>\n",
       "      <td>Visual</td>\n",
       "    </tr>\n",
       "    <tr>\n",
       "      <th>4</th>\n",
       "      <td>3</td>\n",
       "      <td>0</td>\n",
       "      <td>35</td>\n",
       "      <td>Cuneus_R</td>\n",
       "      <td>Occipital</td>\n",
       "      <td>R</td>\n",
       "      <td>Visual</td>\n",
       "      <td>Visual</td>\n",
       "    </tr>\n",
       "    <tr>\n",
       "      <th>...</th>\n",
       "      <td>...</td>\n",
       "      <td>...</td>\n",
       "      <td>...</td>\n",
       "      <td>...</td>\n",
       "      <td>...</td>\n",
       "      <td>...</td>\n",
       "      <td>...</td>\n",
       "      <td>...</td>\n",
       "    </tr>\n",
       "    <tr>\n",
       "      <th>59</th>\n",
       "      <td>3</td>\n",
       "      <td>4</td>\n",
       "      <td>6</td>\n",
       "      <td>Frontal_Sup_Medial_L</td>\n",
       "      <td>Frontal</td>\n",
       "      <td>L</td>\n",
       "      <td>DMN</td>\n",
       "      <td>DMN</td>\n",
       "    </tr>\n",
       "    <tr>\n",
       "      <th>60</th>\n",
       "      <td>3</td>\n",
       "      <td>4</td>\n",
       "      <td>5</td>\n",
       "      <td>Frontal_Sup_L</td>\n",
       "      <td>Frontal</td>\n",
       "      <td>L</td>\n",
       "      <td>DMN</td>\n",
       "      <td>DMN</td>\n",
       "    </tr>\n",
       "    <tr>\n",
       "      <th>61</th>\n",
       "      <td>3</td>\n",
       "      <td>4</td>\n",
       "      <td>4</td>\n",
       "      <td>Frontal_Sup_Medial_L</td>\n",
       "      <td>Frontal</td>\n",
       "      <td>L</td>\n",
       "      <td>DMN</td>\n",
       "      <td>DMN</td>\n",
       "    </tr>\n",
       "    <tr>\n",
       "      <th>62</th>\n",
       "      <td>3</td>\n",
       "      <td>4</td>\n",
       "      <td>38</td>\n",
       "      <td>Frontal_Sup_R</td>\n",
       "      <td>Frontal</td>\n",
       "      <td>R</td>\n",
       "      <td>DMN</td>\n",
       "      <td>DMN</td>\n",
       "    </tr>\n",
       "    <tr>\n",
       "      <th>63</th>\n",
       "      <td>3</td>\n",
       "      <td>4</td>\n",
       "      <td>17</td>\n",
       "      <td>Frontal_Inf_Tri_L</td>\n",
       "      <td>Frontal</td>\n",
       "      <td>L</td>\n",
       "      <td>DMN</td>\n",
       "      <td>DMN</td>\n",
       "    </tr>\n",
       "  </tbody>\n",
       "</table>\n",
       "<p>64 rows × 8 columns</p>\n",
       "</div>"
      ],
      "text/plain": [
       "    contrast_id  community_id  node            label_name       lobe  \\\n",
       "0             3             0     0              Cuneus_L  Occipital   \n",
       "1             3             0    32              Cuneus_R  Occipital   \n",
       "2             3             0    33       Occipital_Sup_R  Occipital   \n",
       "3             3             0    34              Cuneus_L  Occipital   \n",
       "4             3             0    35              Cuneus_R  Occipital   \n",
       "..          ...           ...   ...                   ...        ...   \n",
       "59            3             4     6  Frontal_Sup_Medial_L    Frontal   \n",
       "60            3             4     5         Frontal_Sup_L    Frontal   \n",
       "61            3             4     4  Frontal_Sup_Medial_L    Frontal   \n",
       "62            3             4    38         Frontal_Sup_R    Frontal   \n",
       "63            3             4    17     Frontal_Inf_Tri_L    Frontal   \n",
       "\n",
       "   hemisphere network_name_gn network_name_ln  \n",
       "0           L          Visual          Visual  \n",
       "1           R          Visual          Visual  \n",
       "2           R          Visual          Visual  \n",
       "3           L          Visual          Visual  \n",
       "4           R          Visual          Visual  \n",
       "..        ...             ...             ...  \n",
       "59          L             DMN             DMN  \n",
       "60          L             DMN             DMN  \n",
       "61          L             DMN             DMN  \n",
       "62          R             DMN             DMN  \n",
       "63          L             DMN             DMN  \n",
       "\n",
       "[64 rows x 8 columns]"
      ]
     },
     "execution_count": 28,
     "metadata": {},
     "output_type": "execute_result"
    }
   ],
   "source": [
    "merged_df"
   ]
  },
  {
   "cell_type": "code",
   "execution_count": 29,
   "id": "ae10cfe1",
   "metadata": {},
   "outputs": [],
   "source": [
    "# Extract the network labels\n",
    "gn_labels = merged_df['network_name_gn'].tolist()\n",
    "louvain_labels = merged_df['network_name_ln'].tolist()"
   ]
  },
  {
   "cell_type": "code",
   "execution_count": 31,
   "id": "e671d5e8",
   "metadata": {},
   "outputs": [
    {
     "name": "stdout",
     "output_type": "stream",
     "text": [
      "NMI between Girvan-Newman and Louvain method: 0.8005166034741567\n"
     ]
    }
   ],
   "source": [
    "# Calculate NMI for contrast 3 (HbT)\n",
    "\n",
    "nmi_score = normalized_mutual_info_score(louvain_labels, gn_labels)\n",
    "\n",
    "print(f'NMI between Girvan-Newman and Louvain method: {nmi_score}')"
   ]
  },
  {
   "cell_type": "code",
   "execution_count": 35,
   "id": "aa0698f8",
   "metadata": {},
   "outputs": [],
   "source": [
    "girvan_newman_df.to_csv('RSN_df_girvan_newman.csv',index=False)\n",
    "louvain_df.to_csv('RSN_df_louvain.csv',index=False)\n",
    "isomap_df.to_csv('RSN_df_isomap.csv',index=False)"
   ]
  },
  {
   "cell_type": "code",
   "execution_count": null,
   "id": "52b1cbab",
   "metadata": {},
   "outputs": [],
   "source": []
  },
  {
   "cell_type": "code",
   "execution_count": null,
   "id": "43670836",
   "metadata": {},
   "outputs": [],
   "source": []
  },
  {
   "cell_type": "code",
   "execution_count": null,
   "id": "27c6d77a",
   "metadata": {},
   "outputs": [],
   "source": []
  }
 ],
 "metadata": {
  "kernelspec": {
   "display_name": "Python 3 (ipykernel)",
   "language": "python",
   "name": "python3"
  },
  "language_info": {
   "codemirror_mode": {
    "name": "ipython",
    "version": 3
   },
   "file_extension": ".py",
   "mimetype": "text/x-python",
   "name": "python",
   "nbconvert_exporter": "python",
   "pygments_lexer": "ipython3",
   "version": "3.9.12"
  }
 },
 "nbformat": 4,
 "nbformat_minor": 5
}
